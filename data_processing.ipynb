{
 "cells": [
  {
   "cell_type": "code",
   "execution_count": 1,
   "id": "8ce1d02a",
   "metadata": {
    "scrolled": true
   },
   "outputs": [],
   "source": [
    "import numpy as np\n",
    "import pandas as pd\n",
    "from lightgbm import Dataset\n"
   ]
  },
  {
   "cell_type": "code",
   "execution_count": 2,
   "id": "63a2a5ad",
   "metadata": {},
   "outputs": [],
   "source": [
    "'''\n",
    "File paths\n",
    "'''\n",
    "import os\n",
    "\n",
    "folder = os.path.join(\"/projectnb\",\"cs542sp\",\"netflix_wrw2\", \"CS542-final-project\", \"data\")\n",
    "\n",
    "data_path = os.path.join(folder, \"netflix_analysis_dataset.sas7bdat\")\n",
    "test_path = os.path.join(folder, \"who_rated_what_2006.sas7bdat\")"
   ]
  },
  {
   "cell_type": "code",
   "execution_count": 3,
   "id": "be18eb13",
   "metadata": {},
   "outputs": [
    {
     "name": "stdout",
     "output_type": "stream",
     "text": [
      "/projectnb/cs542sp/netflix_wrw2/CS542-final-project/data\n"
     ]
    }
   ],
   "source": [
    "print(folder)"
   ]
  },
  {
   "cell_type": "code",
   "execution_count": 4,
   "id": "2e478a6b",
   "metadata": {},
   "outputs": [
    {
     "data": {
      "text/plain": [
       "['full_data.bin',\n",
       " 'Baseline Info.docx',\n",
       " 'who_rated_what_2006.sas7bdat',\n",
       " 'netflix_analysis_dataset.sas7bdat',\n",
       " 'who_rated_what_2006_ans_use.sas7bdat']"
      ]
     },
     "execution_count": 4,
     "metadata": {},
     "output_type": "execute_result"
    }
   ],
   "source": [
    "next(os.walk(folder))[2]"
   ]
  },
  {
   "cell_type": "code",
   "execution_count": 12,
   "id": "8b495920",
   "metadata": {
    "scrolled": true
   },
   "outputs": [
    {
     "name": "stdout",
     "output_type": "stream",
     "text": [
      "CPU times: user 1.38 ms, sys: 863 µs, total: 2.24 ms\n",
      "Wall time: 2.25 ms\n"
     ]
    }
   ],
   "source": [
    "%%time\n",
    "\n",
    "'''\n",
    "Read data in 10 chunks of 20,000,000 lines\n",
    "\n",
    "Hopefully this will speed up training and allow for easy cross validation\n",
    "'''\n",
    "\n",
    "\n",
    "def compress(data):\n",
    "    # compress the data\n",
    "    for col in data.columns:\n",
    "        data[col] = pd.to_numeric(data[col], downcast='unsigned')\n",
    "\n",
    "# read all of the data\n",
    "reader = pd.read_sas(data_path, chunksize=20_000_000)"
   ]
  },
  {
   "cell_type": "code",
   "execution_count": 16,
   "id": "c3d84fb0",
   "metadata": {
    "scrolled": true
   },
   "outputs": [
    {
     "name": "stderr",
     "output_type": "stream",
     "text": [
      "<timed exec>:11: SettingWithCopyWarning: \n",
      "A value is trying to be set on a copy of a slice from a DataFrame.\n",
      "Try using .loc[row_indexer,col_indexer] = value instead\n",
      "\n",
      "See the caveats in the documentation: https://pandas.pydata.org/pandas-docs/stable/user_guide/indexing.html#returning-a-view-versus-a-copy\n"
     ]
    },
    {
     "name": "stdout",
     "output_type": "stream",
     "text": [
      "0 MEMORY 973MB POS/NEG: 0.704\n",
      "[LightGBM] [Warning] File /projectnb/cs542sp/netflix_wrw2/CS542-final-project/data/data_00.bin exists, cannot save binary to it\n"
     ]
    },
    {
     "name": "stderr",
     "output_type": "stream",
     "text": [
      "<timed exec>:11: SettingWithCopyWarning: \n",
      "A value is trying to be set on a copy of a slice from a DataFrame.\n",
      "Try using .loc[row_indexer,col_indexer] = value instead\n",
      "\n",
      "See the caveats in the documentation: https://pandas.pydata.org/pandas-docs/stable/user_guide/indexing.html#returning-a-view-versus-a-copy\n"
     ]
    },
    {
     "name": "stdout",
     "output_type": "stream",
     "text": [
      "1 MEMORY 973MB POS/NEG: 0.701\n",
      "[LightGBM] [Info] Saving data to binary file /projectnb/cs542sp/netflix_wrw2/CS542-final-project/data/data_01.bin\n"
     ]
    },
    {
     "name": "stderr",
     "output_type": "stream",
     "text": [
      "<timed exec>:11: SettingWithCopyWarning: \n",
      "A value is trying to be set on a copy of a slice from a DataFrame.\n",
      "Try using .loc[row_indexer,col_indexer] = value instead\n",
      "\n",
      "See the caveats in the documentation: https://pandas.pydata.org/pandas-docs/stable/user_guide/indexing.html#returning-a-view-versus-a-copy\n"
     ]
    },
    {
     "name": "stdout",
     "output_type": "stream",
     "text": [
      "2 MEMORY 973MB POS/NEG: 0.704\n",
      "[LightGBM] [Info] Saving data to binary file /projectnb/cs542sp/netflix_wrw2/CS542-final-project/data/data_02.bin\n"
     ]
    },
    {
     "name": "stderr",
     "output_type": "stream",
     "text": [
      "<timed exec>:11: SettingWithCopyWarning: \n",
      "A value is trying to be set on a copy of a slice from a DataFrame.\n",
      "Try using .loc[row_indexer,col_indexer] = value instead\n",
      "\n",
      "See the caveats in the documentation: https://pandas.pydata.org/pandas-docs/stable/user_guide/indexing.html#returning-a-view-versus-a-copy\n"
     ]
    },
    {
     "name": "stdout",
     "output_type": "stream",
     "text": [
      "3 MEMORY 973MB POS/NEG: 0.701\n",
      "[LightGBM] [Info] Saving data to binary file /projectnb/cs542sp/netflix_wrw2/CS542-final-project/data/data_03.bin\n"
     ]
    },
    {
     "name": "stderr",
     "output_type": "stream",
     "text": [
      "<timed exec>:11: SettingWithCopyWarning: \n",
      "A value is trying to be set on a copy of a slice from a DataFrame.\n",
      "Try using .loc[row_indexer,col_indexer] = value instead\n",
      "\n",
      "See the caveats in the documentation: https://pandas.pydata.org/pandas-docs/stable/user_guide/indexing.html#returning-a-view-versus-a-copy\n"
     ]
    },
    {
     "name": "stdout",
     "output_type": "stream",
     "text": [
      "4 MEMORY 973MB POS/NEG: 0.702\n",
      "[LightGBM] [Info] Saving data to binary file /projectnb/cs542sp/netflix_wrw2/CS542-final-project/data/data_04.bin\n"
     ]
    },
    {
     "name": "stderr",
     "output_type": "stream",
     "text": [
      "<timed exec>:11: SettingWithCopyWarning: \n",
      "A value is trying to be set on a copy of a slice from a DataFrame.\n",
      "Try using .loc[row_indexer,col_indexer] = value instead\n",
      "\n",
      "See the caveats in the documentation: https://pandas.pydata.org/pandas-docs/stable/user_guide/indexing.html#returning-a-view-versus-a-copy\n"
     ]
    },
    {
     "name": "stdout",
     "output_type": "stream",
     "text": [
      "5 MEMORY 973MB POS/NEG: 0.701\n",
      "[LightGBM] [Info] Saving data to binary file /projectnb/cs542sp/netflix_wrw2/CS542-final-project/data/data_05.bin\n"
     ]
    },
    {
     "name": "stderr",
     "output_type": "stream",
     "text": [
      "<timed exec>:11: SettingWithCopyWarning: \n",
      "A value is trying to be set on a copy of a slice from a DataFrame.\n",
      "Try using .loc[row_indexer,col_indexer] = value instead\n",
      "\n",
      "See the caveats in the documentation: https://pandas.pydata.org/pandas-docs/stable/user_guide/indexing.html#returning-a-view-versus-a-copy\n"
     ]
    },
    {
     "name": "stdout",
     "output_type": "stream",
     "text": [
      "6 MEMORY 973MB POS/NEG: 0.702\n",
      "[LightGBM] [Info] Saving data to binary file /projectnb/cs542sp/netflix_wrw2/CS542-final-project/data/data_06.bin\n"
     ]
    },
    {
     "name": "stderr",
     "output_type": "stream",
     "text": [
      "<timed exec>:11: SettingWithCopyWarning: \n",
      "A value is trying to be set on a copy of a slice from a DataFrame.\n",
      "Try using .loc[row_indexer,col_indexer] = value instead\n",
      "\n",
      "See the caveats in the documentation: https://pandas.pydata.org/pandas-docs/stable/user_guide/indexing.html#returning-a-view-versus-a-copy\n"
     ]
    },
    {
     "name": "stdout",
     "output_type": "stream",
     "text": [
      "7 MEMORY 973MB POS/NEG: 0.699\n",
      "[LightGBM] [Info] Saving data to binary file /projectnb/cs542sp/netflix_wrw2/CS542-final-project/data/data_07.bin\n"
     ]
    },
    {
     "name": "stderr",
     "output_type": "stream",
     "text": [
      "<timed exec>:11: SettingWithCopyWarning: \n",
      "A value is trying to be set on a copy of a slice from a DataFrame.\n",
      "Try using .loc[row_indexer,col_indexer] = value instead\n",
      "\n",
      "See the caveats in the documentation: https://pandas.pydata.org/pandas-docs/stable/user_guide/indexing.html#returning-a-view-versus-a-copy\n"
     ]
    },
    {
     "name": "stdout",
     "output_type": "stream",
     "text": [
      "8 MEMORY 973MB POS/NEG: 0.706\n",
      "[LightGBM] [Info] Saving data to binary file /projectnb/cs542sp/netflix_wrw2/CS542-final-project/data/data_08.bin\n"
     ]
    },
    {
     "name": "stderr",
     "output_type": "stream",
     "text": [
      "<timed exec>:11: SettingWithCopyWarning: \n",
      "A value is trying to be set on a copy of a slice from a DataFrame.\n",
      "Try using .loc[row_indexer,col_indexer] = value instead\n",
      "\n",
      "See the caveats in the documentation: https://pandas.pydata.org/pandas-docs/stable/user_guide/indexing.html#returning-a-view-versus-a-copy\n"
     ]
    },
    {
     "name": "stdout",
     "output_type": "stream",
     "text": [
      "9 MEMORY 177MB POS/NEG: 0.697\n",
      "[LightGBM] [Info] Saving data to binary file /projectnb/cs542sp/netflix_wrw2/CS542-final-project/data/data_09.bin\n"
     ]
    }
   ],
   "source": [
    "'''\n",
    "Collect 10 data chunks, compress, and convert to lightgbm binary files\n",
    "'''\n",
    "\n",
    "for i, data in enumerate(reader):\n",
    "    \n",
    "    if i > 9:\n",
    "        break\n",
    "    \n",
    "    # remove nan values\n",
    "    data = data.dropna()\n",
    "    \n",
    "    compress(data)\n",
    "    \n",
    "    print(i, \"MEMORY {}MB\".format(round(data.memory_usage(index=True).sum()/ 1024**2)), \"POS/NEG:\", round(data[\"Rated\"].sum()/(data.shape[0]-data[\"Rated\"].sum()),3))\n",
    "\n",
    "    # build the training data in lgbm format\n",
    "    lgbm_data = Dataset(data.drop(['Rated'], axis=1),label=data[\"Rated\"])\n",
    "\n",
    "    # save testing data\n",
    "    lgbm_data.save_binary(os.path.join(folder, 'data_' + str(i).zfill(2) + '.bin'))"
   ]
  },
  {
   "cell_type": "code",
   "execution_count": null,
   "id": "6ec6f0b3",
   "metadata": {},
   "outputs": [],
   "source": []
  }
 ],
 "metadata": {
  "kernelspec": {
   "display_name": "Python 3",
   "language": "python",
   "name": "python3"
  },
  "language_info": {
   "codemirror_mode": {
    "name": "ipython",
    "version": 3
   },
   "file_extension": ".py",
   "mimetype": "text/x-python",
   "name": "python",
   "nbconvert_exporter": "python",
   "pygments_lexer": "ipython3",
   "version": "3.8.10"
  }
 },
 "nbformat": 4,
 "nbformat_minor": 5
}
