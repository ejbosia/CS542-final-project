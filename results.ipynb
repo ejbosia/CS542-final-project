{
 "cells": [
  {
   "cell_type": "markdown",
   "id": "8a55fcd4",
   "metadata": {},
   "source": [
    "# Testing the Challenge\n",
    "\n",
    "This notebook is used to apply the model to the challenge. This is using preformatted data that includes the features used for model training."
   ]
  },
  {
   "cell_type": "code",
   "execution_count": 1,
   "id": "ad76dffc",
   "metadata": {},
   "outputs": [],
   "source": [
    "import numpy as np\n",
    "import pandas as pd\n",
    "import lightgbm as lgbm\n",
    "\n",
    "from matplotlib import pyplot"
   ]
  },
  {
   "cell_type": "code",
   "execution_count": 2,
   "id": "7e693040",
   "metadata": {},
   "outputs": [],
   "source": [
    "'''\n",
    "Load the data\n",
    "'''\n",
    "data = pd.read_sas('data/who_rated_what_ans_wvars.sas7bdat')\n",
    "answer_data = pd.read_csv('answer_data.csv')"
   ]
  },
  {
   "cell_type": "code",
   "execution_count": 3,
   "id": "5cc40a5a",
   "metadata": {},
   "outputs": [
    {
     "data": {
      "text/html": [
       "<div>\n",
       "<style scoped>\n",
       "    .dataframe tbody tr th:only-of-type {\n",
       "        vertical-align: middle;\n",
       "    }\n",
       "\n",
       "    .dataframe tbody tr th {\n",
       "        vertical-align: top;\n",
       "    }\n",
       "\n",
       "    .dataframe thead th {\n",
       "        text-align: right;\n",
       "    }\n",
       "</style>\n",
       "<table border=\"1\" class=\"dataframe\">\n",
       "  <thead>\n",
       "    <tr style=\"text-align: right;\">\n",
       "      <th></th>\n",
       "      <th>User_ID</th>\n",
       "      <th>Movie_ID</th>\n",
       "      <th>Year</th>\n",
       "      <th>Rated</th>\n",
       "      <th>Ratings_for_Movie</th>\n",
       "      <th>Ratings_for_Movie_2005</th>\n",
       "      <th>Netflix_Release_Year</th>\n",
       "      <th>Movie_Rating_Time</th>\n",
       "      <th>Movie_Ratings_per_Day</th>\n",
       "      <th>Release_Year</th>\n",
       "      <th>AVG_Rating_for_Movie</th>\n",
       "      <th>Ratings_from_User</th>\n",
       "      <th>Ratings_from_User_2005</th>\n",
       "      <th>AVG_Rating_from_User</th>\n",
       "      <th>User_Rating_Time</th>\n",
       "      <th>User_Ratings_per_Day</th>\n",
       "      <th>User_Entry_Year</th>\n",
       "    </tr>\n",
       "  </thead>\n",
       "  <tbody>\n",
       "    <tr>\n",
       "      <th>0</th>\n",
       "      <td>6.0</td>\n",
       "      <td>16983.0</td>\n",
       "      <td>2006.0</td>\n",
       "      <td>0.0</td>\n",
       "      <td>546.0</td>\n",
       "      <td>222.0</td>\n",
       "      <td>2000.0</td>\n",
       "      <td>5.965777</td>\n",
       "      <td>0.250574</td>\n",
       "      <td>1987.0</td>\n",
       "      <td>3.474359</td>\n",
       "      <td>626.0</td>\n",
       "      <td>310.0</td>\n",
       "      <td>3.418530</td>\n",
       "      <td>1.738535</td>\n",
       "      <td>0.985827</td>\n",
       "      <td>2004.0</td>\n",
       "    </tr>\n",
       "    <tr>\n",
       "      <th>1</th>\n",
       "      <td>10.0</td>\n",
       "      <td>15957.0</td>\n",
       "      <td>2006.0</td>\n",
       "      <td>0.0</td>\n",
       "      <td>2122.0</td>\n",
       "      <td>1198.0</td>\n",
       "      <td>2003.0</td>\n",
       "      <td>2.872005</td>\n",
       "      <td>2.022879</td>\n",
       "      <td>1998.0</td>\n",
       "      <td>3.905278</td>\n",
       "      <td>260.0</td>\n",
       "      <td>91.0</td>\n",
       "      <td>3.392308</td>\n",
       "      <td>2.847365</td>\n",
       "      <td>0.250000</td>\n",
       "      <td>2002.0</td>\n",
       "    </tr>\n",
       "    <tr>\n",
       "      <th>2</th>\n",
       "      <td>10.0</td>\n",
       "      <td>14584.0</td>\n",
       "      <td>2006.0</td>\n",
       "      <td>1.0</td>\n",
       "      <td>37492.0</td>\n",
       "      <td>18285.0</td>\n",
       "      <td>1999.0</td>\n",
       "      <td>6.004107</td>\n",
       "      <td>17.096215</td>\n",
       "      <td>1999.0</td>\n",
       "      <td>3.819455</td>\n",
       "      <td>260.0</td>\n",
       "      <td>91.0</td>\n",
       "      <td>3.392308</td>\n",
       "      <td>2.847365</td>\n",
       "      <td>0.250000</td>\n",
       "      <td>2002.0</td>\n",
       "    </tr>\n",
       "    <tr>\n",
       "      <th>3</th>\n",
       "      <td>10.0</td>\n",
       "      <td>11888.0</td>\n",
       "      <td>2006.0</td>\n",
       "      <td>0.0</td>\n",
       "      <td>51611.0</td>\n",
       "      <td>28415.0</td>\n",
       "      <td>1999.0</td>\n",
       "      <td>6.056126</td>\n",
       "      <td>23.332278</td>\n",
       "      <td>1993.0</td>\n",
       "      <td>3.790239</td>\n",
       "      <td>260.0</td>\n",
       "      <td>91.0</td>\n",
       "      <td>3.392308</td>\n",
       "      <td>2.847365</td>\n",
       "      <td>0.250000</td>\n",
       "      <td>2002.0</td>\n",
       "    </tr>\n",
       "    <tr>\n",
       "      <th>4</th>\n",
       "      <td>131.0</td>\n",
       "      <td>17405.0</td>\n",
       "      <td>2006.0</td>\n",
       "      <td>0.0</td>\n",
       "      <td>58563.0</td>\n",
       "      <td>58562.0</td>\n",
       "      <td>2004.0</td>\n",
       "      <td>1.002053</td>\n",
       "      <td>160.008197</td>\n",
       "      <td>2005.0</td>\n",
       "      <td>3.523761</td>\n",
       "      <td>131.0</td>\n",
       "      <td>131.0</td>\n",
       "      <td>3.175573</td>\n",
       "      <td>0.717317</td>\n",
       "      <td>0.500000</td>\n",
       "      <td>2005.0</td>\n",
       "    </tr>\n",
       "  </tbody>\n",
       "</table>\n",
       "</div>"
      ],
      "text/plain": [
       "   User_ID  Movie_ID    Year  Rated  Ratings_for_Movie  \\\n",
       "0      6.0   16983.0  2006.0    0.0              546.0   \n",
       "1     10.0   15957.0  2006.0    0.0             2122.0   \n",
       "2     10.0   14584.0  2006.0    1.0            37492.0   \n",
       "3     10.0   11888.0  2006.0    0.0            51611.0   \n",
       "4    131.0   17405.0  2006.0    0.0            58563.0   \n",
       "\n",
       "   Ratings_for_Movie_2005  Netflix_Release_Year  Movie_Rating_Time  \\\n",
       "0                   222.0                2000.0           5.965777   \n",
       "1                  1198.0                2003.0           2.872005   \n",
       "2                 18285.0                1999.0           6.004107   \n",
       "3                 28415.0                1999.0           6.056126   \n",
       "4                 58562.0                2004.0           1.002053   \n",
       "\n",
       "   Movie_Ratings_per_Day  Release_Year  AVG_Rating_for_Movie  \\\n",
       "0               0.250574        1987.0              3.474359   \n",
       "1               2.022879        1998.0              3.905278   \n",
       "2              17.096215        1999.0              3.819455   \n",
       "3              23.332278        1993.0              3.790239   \n",
       "4             160.008197        2005.0              3.523761   \n",
       "\n",
       "   Ratings_from_User  Ratings_from_User_2005  AVG_Rating_from_User  \\\n",
       "0              626.0                   310.0              3.418530   \n",
       "1              260.0                    91.0              3.392308   \n",
       "2              260.0                    91.0              3.392308   \n",
       "3              260.0                    91.0              3.392308   \n",
       "4              131.0                   131.0              3.175573   \n",
       "\n",
       "   User_Rating_Time  User_Ratings_per_Day  User_Entry_Year  \n",
       "0          1.738535              0.985827           2004.0  \n",
       "1          2.847365              0.250000           2002.0  \n",
       "2          2.847365              0.250000           2002.0  \n",
       "3          2.847365              0.250000           2002.0  \n",
       "4          0.717317              0.500000           2005.0  "
      ]
     },
     "execution_count": 3,
     "metadata": {},
     "output_type": "execute_result"
    }
   ],
   "source": [
    "'''\n",
    "Set variable data to to match the correct rating value\n",
    "'''\n",
    "data.loc[(answer_data[\"Rating\"] == 0),\"Rated\"] = 0\n",
    "\n",
    "data.head()"
   ]
  },
  {
   "cell_type": "code",
   "execution_count": 4,
   "id": "10d9c518",
   "metadata": {},
   "outputs": [],
   "source": [
    "'''\n",
    "Preprocess the data (separate features from labels)\n",
    "'''\n",
    "X = data.drop(['User_ID', 'Movie_ID', 'Rated'], axis=1)\n",
    "Y = data['Rated'].values"
   ]
  },
  {
   "cell_type": "code",
   "execution_count": 5,
   "id": "15c3ee75",
   "metadata": {},
   "outputs": [
    {
     "name": "stdout",
     "output_type": "stream",
     "text": [
      "['m50M_500.txt', 'm50M_10000.txt', 'm25M_400.txt', 'm50M_250.txt', 'model.txt', 'm25M_250.txt', 'm1000_002.txt', 'm1000.txt', 'm50M_1K.txt', 'm1.txt']\n"
     ]
    }
   ],
   "source": [
    "'''\n",
    "Print available models\n",
    "'''\n",
    "import os\n",
    "\n",
    "print(next(os.walk('models'))[2])"
   ]
  },
  {
   "cell_type": "code",
   "execution_count": 6,
   "id": "b26a526c",
   "metadata": {},
   "outputs": [],
   "source": [
    "'''\n",
    "Load the model\n",
    "'''\n",
    "model = lgbm.Booster(model_file = 'models/m50M_1K.txt')"
   ]
  },
  {
   "cell_type": "code",
   "execution_count": 7,
   "id": "bccc7f88",
   "metadata": {},
   "outputs": [],
   "source": [
    "'''\n",
    "Create predictions\n",
    "'''\n",
    "predictions = model.predict(X)"
   ]
  },
  {
   "cell_type": "code",
   "execution_count": 8,
   "id": "0fa428a8",
   "metadata": {},
   "outputs": [
    {
     "name": "stdout",
     "output_type": "stream",
     "text": [
      "Accuracy: 0.81863\n"
     ]
    }
   ],
   "source": [
    "'''\n",
    "Evaluate\n",
    "'''\n",
    "from sklearn.metrics import accuracy_score\n",
    "\n",
    "print(\"Accuracy: {}\".format(accuracy_score(Y, predictions > 0.5)))"
   ]
  },
  {
   "cell_type": "code",
   "execution_count": 9,
   "id": "5ab94f30",
   "metadata": {},
   "outputs": [
    {
     "name": "stdout",
     "output_type": "stream",
     "text": [
      "              precision    recall  f1-score   support\n",
      "\n",
      "         0.0       0.93      0.87      0.90     92196\n",
      "         1.0       0.12      0.20      0.15      7804\n",
      "\n",
      "    accuracy                           0.82    100000\n",
      "   macro avg       0.52      0.54      0.52    100000\n",
      "weighted avg       0.86      0.82      0.84    100000\n",
      "\n"
     ]
    }
   ],
   "source": [
    "'''\n",
    "Output classification report from sklearn\n",
    "'''\n",
    "from sklearn.metrics import classification_report\n",
    "\n",
    "print(classification_report(Y, predictions > 0.5))"
   ]
  },
  {
   "cell_type": "code",
   "execution_count": 10,
   "id": "97874523",
   "metadata": {},
   "outputs": [
    {
     "data": {
      "image/png": "[encoded data removed]",
      "text/plain": [
       "<Figure size 432x288 with 1 Axes>"
      ]
     },
     "metadata": {
      "needs_background": "light"
     },
     "output_type": "display_data"
    }
   ],
   "source": [
    "'''\n",
    "Plot the sorted label output and the sorted ground truth output\n",
    "\n",
    "This only shows the relative uncertainty of the classification. \n",
    "A lot of the predictions are close to the 0.5 threshold.\n",
    "'''\n",
    "\n",
    "pyplot.plot(np.sort(predictions), label = 'prediction')\n",
    "pyplot.plot(np.sort(data['Rated'].values), color='green', label='truth')\n",
    "pyplot.hlines(xmin=0, xmax=len(predictions), y=0.5, color='red', label='threshold')\n",
    "pyplot.legend()\n",
    "pyplot.show()"
   ]
  },
  {
   "cell_type": "markdown",
   "id": "410b9081",
   "metadata": {},
   "source": [
    "There are more predicted positives than the number that exist.\n",
    "\n",
    "The accuracy is very good, but the recall and precision for the positives is poor, which is probably more important. Just guessing negative would result in an accuracy of ~0.922,  but recall and precision of 0.0.\n",
    "\n",
    "If the goal was \"Who didn't rate what?\", the model would perform well."
   ]
  },
  {
   "cell_type": "code",
   "execution_count": 11,
   "id": "cfe54525",
   "metadata": {},
   "outputs": [
    {
     "name": "stdout",
     "output_type": "stream",
     "text": [
      "LightGBM RSME:\t0.42587556868174536\n",
      "All zeros RSME:\t0.2793564031841762\n"
     ]
    }
   ],
   "source": [
    "'''\n",
    "Compare the RMSE of the model and only guessing 0's\n",
    "'''\n",
    "\n",
    "print(\"LightGBM RSME:\\t{}\".format(np.sqrt(np.mean(np.power(Y-(predictions > 0.5), 2)))))\n",
    "print(\"All zeros RSME:\\t{}\".format(np.sqrt(np.mean(np.power(Y-0, 2)))))"
   ]
  },
  {
   "cell_type": "markdown",
   "id": "3e2285a4",
   "metadata": {},
   "source": [
    "The model underperforms guessing 0's for RMSE. Probable fixes would be to add more features and train more data for longer."
   ]
  },
  {
   "cell_type": "code",
   "execution_count": 14,
   "id": "17621641",
   "metadata": {
    "scrolled": true
   },
   "outputs": [
    {
     "data": {
      "text/html": [
       "<div>\n",
       "<style scoped>\n",
       "    .dataframe tbody tr th:only-of-type {\n",
       "        vertical-align: middle;\n",
       "    }\n",
       "\n",
       "    .dataframe tbody tr th {\n",
       "        vertical-align: top;\n",
       "    }\n",
       "\n",
       "    .dataframe thead th {\n",
       "        text-align: right;\n",
       "    }\n",
       "</style>\n",
       "<table border=\"1\" class=\"dataframe\">\n",
       "  <thead>\n",
       "    <tr style=\"text-align: right;\">\n",
       "      <th></th>\n",
       "      <th>0</th>\n",
       "      <th>1</th>\n",
       "    </tr>\n",
       "  </thead>\n",
       "  <tbody>\n",
       "    <tr>\n",
       "      <th>0</th>\n",
       "      <td>80274</td>\n",
       "      <td>11922</td>\n",
       "    </tr>\n",
       "    <tr>\n",
       "      <th>1</th>\n",
       "      <td>6215</td>\n",
       "      <td>1589</td>\n",
       "    </tr>\n",
       "  </tbody>\n",
       "</table>\n",
       "</div>"
      ],
      "text/plain": [
       "       0      1\n",
       "0  80274  11922\n",
       "1   6215   1589"
      ]
     },
     "execution_count": 14,
     "metadata": {},
     "output_type": "execute_result"
    }
   ],
   "source": [
    "'''\n",
    "\n",
    "'''\n",
    "\n",
    "from sklearn.metrics import confusion_matrix\n",
    "\n",
    "matrix = confusion_matrix(Y, predictions > 0.5)\n",
    "\n",
    "pd.DataFrame(matrix)"
   ]
  },
  {
   "cell_type": "markdown",
   "id": "61b4d59a",
   "metadata": {},
   "source": [
    "The model too often guesses \"1\" for ground truth \"0\".\n",
    "\n",
    "The missing data is more features. The model performance for adding more training steps and data is almost identical."
   ]
  },
  {
   "cell_type": "code",
   "execution_count": null,
   "id": "f23ccdbf",
   "metadata": {},
   "outputs": [],
   "source": []
  }
 ],
 "metadata": {
  "kernelspec": {
   "display_name": "Python 3",
   "language": "python",
   "name": "python3"
  },
  "language_info": {
   "codemirror_mode": {
    "name": "ipython",
    "version": 3
   },
   "file_extension": ".py",
   "mimetype": "text/x-python",
   "name": "python",
   "nbconvert_exporter": "python",
   "pygments_lexer": "ipython3",
   "version": "3.8.10"
  }
 },
 "nbformat": 4,
 "nbformat_minor": 5
}
