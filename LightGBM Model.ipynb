{
 "cells": [
  {
   "cell_type": "code",
   "execution_count": 1,
   "id": "8ce1d02a",
   "metadata": {
    "scrolled": true
   },
   "outputs": [],
   "source": [
    "import numpy as np\n",
    "import pandas as pd\n",
    "import lightgbm as lgbm"
   ]
  },
  {
   "cell_type": "code",
   "execution_count": 2,
   "id": "63a2a5ad",
   "metadata": {},
   "outputs": [],
   "source": [
    "# load the data\n",
    "\n",
    "import os\n",
    "\n",
    "folder = \"data\"\n",
    "\n",
    "wrw_data = pd.read_sas(os.path.join(folder, \"who_rated_what_2006.sas7bdat\"))\n",
    "answer_data = pd.read_sas(os.path.join(folder, \"who_rated_what_2006.sas7bdat\"))\n",
    "movie_titles_data = pd.read_sas(os.path.join(folder, \"movie_titles_named.sas7bdat\"))"
   ]
  },
  {
   "cell_type": "code",
   "execution_count": 3,
   "id": "c3736dc6",
   "metadata": {},
   "outputs": [
    {
     "data": {
      "text/html": [
       "<div>\n",
       "<style scoped>\n",
       "    .dataframe tbody tr th:only-of-type {\n",
       "        vertical-align: middle;\n",
       "    }\n",
       "\n",
       "    .dataframe tbody tr th {\n",
       "        vertical-align: top;\n",
       "    }\n",
       "\n",
       "    .dataframe thead th {\n",
       "        text-align: right;\n",
       "    }\n",
       "</style>\n",
       "<table border=\"1\" class=\"dataframe\">\n",
       "  <thead>\n",
       "    <tr style=\"text-align: right;\">\n",
       "      <th></th>\n",
       "      <th>User_ID</th>\n",
       "      <th>Movie_ID</th>\n",
       "    </tr>\n",
       "  </thead>\n",
       "  <tbody>\n",
       "    <tr>\n",
       "      <th>0</th>\n",
       "      <td>6.0</td>\n",
       "      <td>16983.0</td>\n",
       "    </tr>\n",
       "    <tr>\n",
       "      <th>1</th>\n",
       "      <td>10.0</td>\n",
       "      <td>11888.0</td>\n",
       "    </tr>\n",
       "    <tr>\n",
       "      <th>2</th>\n",
       "      <td>10.0</td>\n",
       "      <td>14584.0</td>\n",
       "    </tr>\n",
       "    <tr>\n",
       "      <th>3</th>\n",
       "      <td>10.0</td>\n",
       "      <td>15957.0</td>\n",
       "    </tr>\n",
       "    <tr>\n",
       "      <th>4</th>\n",
       "      <td>131.0</td>\n",
       "      <td>17405.0</td>\n",
       "    </tr>\n",
       "  </tbody>\n",
       "</table>\n",
       "</div>"
      ],
      "text/plain": [
       "   User_ID  Movie_ID\n",
       "0      6.0   16983.0\n",
       "1     10.0   11888.0\n",
       "2     10.0   14584.0\n",
       "3     10.0   15957.0\n",
       "4    131.0   17405.0"
      ]
     },
     "execution_count": 3,
     "metadata": {},
     "output_type": "execute_result"
    }
   ],
   "source": [
    "wrw_data.head(5)"
   ]
  },
  {
   "cell_type": "code",
   "execution_count": 4,
   "id": "15b3da2c",
   "metadata": {},
   "outputs": [
    {
     "data": {
      "text/html": [
       "<div>\n",
       "<style scoped>\n",
       "    .dataframe tbody tr th:only-of-type {\n",
       "        vertical-align: middle;\n",
       "    }\n",
       "\n",
       "    .dataframe tbody tr th {\n",
       "        vertical-align: top;\n",
       "    }\n",
       "\n",
       "    .dataframe thead th {\n",
       "        text-align: right;\n",
       "    }\n",
       "</style>\n",
       "<table border=\"1\" class=\"dataframe\">\n",
       "  <thead>\n",
       "    <tr style=\"text-align: right;\">\n",
       "      <th></th>\n",
       "      <th>Movie_ID</th>\n",
       "      <th>Year</th>\n",
       "      <th>Movie_Name</th>\n",
       "    </tr>\n",
       "  </thead>\n",
       "  <tbody>\n",
       "    <tr>\n",
       "      <th>0</th>\n",
       "      <td>1.0</td>\n",
       "      <td>2003.0</td>\n",
       "      <td>b'Dinosaur Planet'</td>\n",
       "    </tr>\n",
       "    <tr>\n",
       "      <th>1</th>\n",
       "      <td>2.0</td>\n",
       "      <td>2004.0</td>\n",
       "      <td>b'Isle of Man TT 2004 Review'</td>\n",
       "    </tr>\n",
       "    <tr>\n",
       "      <th>2</th>\n",
       "      <td>3.0</td>\n",
       "      <td>1997.0</td>\n",
       "      <td>b'Character'</td>\n",
       "    </tr>\n",
       "    <tr>\n",
       "      <th>3</th>\n",
       "      <td>4.0</td>\n",
       "      <td>1994.0</td>\n",
       "      <td>b\"Paula Abdul's Get Up &amp; Dance\"</td>\n",
       "    </tr>\n",
       "    <tr>\n",
       "      <th>4</th>\n",
       "      <td>5.0</td>\n",
       "      <td>2004.0</td>\n",
       "      <td>b'The Rise and Fall of ECW'</td>\n",
       "    </tr>\n",
       "  </tbody>\n",
       "</table>\n",
       "</div>"
      ],
      "text/plain": [
       "   Movie_ID    Year                       Movie_Name\n",
       "0       1.0  2003.0               b'Dinosaur Planet'\n",
       "1       2.0  2004.0    b'Isle of Man TT 2004 Review'\n",
       "2       3.0  1997.0                     b'Character'\n",
       "3       4.0  1994.0  b\"Paula Abdul's Get Up & Dance\"\n",
       "4       5.0  2004.0      b'The Rise and Fall of ECW'"
      ]
     },
     "execution_count": 4,
     "metadata": {},
     "output_type": "execute_result"
    }
   ],
   "source": [
    "movie_titles_data.head()"
   ]
  },
  {
   "cell_type": "code",
   "execution_count": 5,
   "id": "d61eeab7",
   "metadata": {},
   "outputs": [
    {
     "data": {
      "text/html": [
       "<div>\n",
       "<style scoped>\n",
       "    .dataframe tbody tr th:only-of-type {\n",
       "        vertical-align: middle;\n",
       "    }\n",
       "\n",
       "    .dataframe tbody tr th {\n",
       "        vertical-align: top;\n",
       "    }\n",
       "\n",
       "    .dataframe thead th {\n",
       "        text-align: right;\n",
       "    }\n",
       "</style>\n",
       "<table border=\"1\" class=\"dataframe\">\n",
       "  <thead>\n",
       "    <tr style=\"text-align: right;\">\n",
       "      <th></th>\n",
       "      <th>User_ID</th>\n",
       "      <th>Movie_ID</th>\n",
       "    </tr>\n",
       "  </thead>\n",
       "  <tbody>\n",
       "    <tr>\n",
       "      <th>0</th>\n",
       "      <td>6.0</td>\n",
       "      <td>16983.0</td>\n",
       "    </tr>\n",
       "    <tr>\n",
       "      <th>1</th>\n",
       "      <td>10.0</td>\n",
       "      <td>11888.0</td>\n",
       "    </tr>\n",
       "    <tr>\n",
       "      <th>2</th>\n",
       "      <td>10.0</td>\n",
       "      <td>14584.0</td>\n",
       "    </tr>\n",
       "    <tr>\n",
       "      <th>3</th>\n",
       "      <td>10.0</td>\n",
       "      <td>15957.0</td>\n",
       "    </tr>\n",
       "    <tr>\n",
       "      <th>4</th>\n",
       "      <td>131.0</td>\n",
       "      <td>17405.0</td>\n",
       "    </tr>\n",
       "  </tbody>\n",
       "</table>\n",
       "</div>"
      ],
      "text/plain": [
       "   User_ID  Movie_ID\n",
       "0      6.0   16983.0\n",
       "1     10.0   11888.0\n",
       "2     10.0   14584.0\n",
       "3     10.0   15957.0\n",
       "4    131.0   17405.0"
      ]
     },
     "execution_count": 5,
     "metadata": {},
     "output_type": "execute_result"
    }
   ],
   "source": [
    "answer_data.head()"
   ]
  },
  {
   "cell_type": "code",
   "execution_count": 12,
   "id": "8b495920",
   "metadata": {},
   "outputs": [
    {
     "name": "stdout",
     "output_type": "stream",
     "text": [
      "   Movie_ID    User_ID  Rating Rating_Date\n",
      "0       1.0  1488844.0     3.0  2005-09-06\n",
      "1       1.0   822109.0     5.0  2005-05-13\n",
      "2       1.0   885013.0     4.0  2005-10-19\n",
      "3       1.0    30878.0     4.0  2005-12-26\n",
      "4       1.0   823519.0     3.0  2004-05-03\n",
      "Memory consumed by test set      :   152.5880126953125 MB\n",
      "Wall time: 7.82 s\n"
     ]
    }
   ],
   "source": [
    "%%time\n",
    "\n",
    "'''\n",
    "# load the data in chunks ~ get a generator\n",
    "with pd.read_sas(os.path.join(folder, \"combined_netflix_data.sas7bdat\"), chunksize=1000000) as reader:\n",
    "    for i,chunk in enumerate(reader):\n",
    "        print(i, end=' ')\n",
    "        if i % 10 == 29:\n",
    "            print()\n",
    "'''\n",
    "\n",
    "# read a chunk of 5M lines\n",
    "reader = pd.read_sas(os.path.join(folder, \"combined_netflix_data.sas7bdat\"), chunksize=5000000)\n",
    "\n",
    "data = next(reader)\n",
    "\n",
    "print(data.head())\n",
    "print(\"Memory consumed by test set      :   {} MB\" .format(data.memory_usage(index=True).sum()/ 1024**2))"
   ]
  },
  {
   "cell_type": "code",
   "execution_count": 9,
   "id": "ae454f6f",
   "metadata": {},
   "outputs": [
    {
     "name": "stdout",
     "output_type": "stream",
     "text": [
      "Movie_ID null values: False\n",
      "User_ID null values: False\n",
      "Rating null values: False\n",
      "Rating_Date null values: False\n"
     ]
    }
   ],
   "source": [
    "# check if any columns are none\n",
    "for c in data.columns:\n",
    "    print(c, \"null values:\", data[c].isnull().values.any())"
   ]
  },
  {
   "cell_type": "code",
   "execution_count": 5,
   "id": "1c1f84df",
   "metadata": {},
   "outputs": [],
   "source": [
    "# test and train set"
   ]
  },
  {
   "cell_type": "code",
   "execution_count": 6,
   "id": "9e7d3dae",
   "metadata": {},
   "outputs": [],
   "source": [
    "# build the model"
   ]
  },
  {
   "cell_type": "code",
   "execution_count": 7,
   "id": "03c0c626",
   "metadata": {},
   "outputs": [],
   "source": [
    "# test the result"
   ]
  },
  {
   "cell_type": "code",
   "execution_count": null,
   "id": "78d51b78",
   "metadata": {},
   "outputs": [],
   "source": []
  }
 ],
 "metadata": {
  "kernelspec": {
   "display_name": "Python 3",
   "language": "python",
   "name": "python3"
  },
  "language_info": {
   "codemirror_mode": {
    "name": "ipython",
    "version": 3
   },
   "file_extension": ".py",
   "mimetype": "text/x-python",
   "name": "python",
   "nbconvert_exporter": "python",
   "pygments_lexer": "ipython3",
   "version": "3.8.10"
  }
 },
 "nbformat": 4,
 "nbformat_minor": 5
}
