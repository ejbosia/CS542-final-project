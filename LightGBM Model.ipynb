{
 "cells": [
  {
   "cell_type": "code",
   "execution_count": 2,
   "id": "8ce1d02a",
   "metadata": {
    "scrolled": true
   },
   "outputs": [],
   "source": [
    "import numpy as np\n",
    "import pandas as pd\n",
    "import lightgbm as lgbm"
   ]
  },
  {
   "cell_type": "code",
   "execution_count": 9,
   "id": "63a2a5ad",
   "metadata": {},
   "outputs": [],
   "source": [
    "'''\n",
    "File paths\n",
    "'''\n",
    "import os\n",
    "\n",
    "folder = os.path.join(\"/projectnb\",\"cs542sp\",\"netflix_wrw2\", \"CS542-final-project\")\n",
    "\n",
    "data_path = os.path.join(folder, \"netflix_analysis_dataset.sas7bdat\")"
   ]
  },
  {
   "cell_type": "code",
   "execution_count": 10,
   "id": "be18eb13",
   "metadata": {},
   "outputs": [
    {
     "name": "stdout",
     "output_type": "stream",
     "text": [
      "/projectnb/cs542sp/netflix_wrw2/CS542-final-project\n"
     ]
    }
   ],
   "source": [
    "print(folder)"
   ]
  },
  {
   "cell_type": "code",
   "execution_count": 11,
   "id": "2e478a6b",
   "metadata": {},
   "outputs": [
    {
     "data": {
      "text/plain": [
       "['who_rated_what_2006.sas7bdat',\n",
       " 'netflix_analysis_dataset.sas7bdat',\n",
       " 'who_rated_what_2006_ans_use.sas7bdat']"
      ]
     },
     "execution_count": 11,
     "metadata": {},
     "output_type": "execute_result"
    }
   ],
   "source": [
    "next(os.walk(folder))[2]"
   ]
  },
  {
   "cell_type": "code",
   "execution_count": 14,
   "id": "8b495920",
   "metadata": {},
   "outputs": [
    {
     "name": "stdout",
     "output_type": "stream",
     "text": [
      "   User_ID  Movie_ID    Year  Rated  Ratings_for_Movie  \\\n",
      "0      6.0   15758.0  2005.0    0.0            58576.0   \n",
      "1      6.0    7828.0  2004.0    0.0            43354.0   \n",
      "2      6.0   15764.0  2004.0    0.0            59352.0   \n",
      "3      6.0   15764.0  2004.0    0.0            59352.0   \n",
      "4      6.0    4141.0  2005.0    0.0            45636.0   \n",
      "\n",
      "   Ratings_for_Movie_2005  Netflix_Release_Year  Release_Year  \\\n",
      "0                 28592.0                1999.0        1984.0   \n",
      "1                 22975.0                1999.0        1999.0   \n",
      "2                 16044.0                2003.0        2003.0   \n",
      "3                 16044.0                2003.0        2003.0   \n",
      "4                 19845.0                2000.0        2000.0   \n",
      "\n",
      "   AVG_Rating_for_Movie  Ratings_from_User  Ratings_from_User_2005  \\\n",
      "0              4.067878              626.0                   310.0   \n",
      "1              3.496079              626.0                   310.0   \n",
      "2              2.906777              626.0                   310.0   \n",
      "3              2.906777              626.0                   310.0   \n",
      "4              3.541743              626.0                   310.0   \n",
      "\n",
      "   AVG_Rating_from_User  User_Entry_Year  \n",
      "0               3.41853           2004.0  \n",
      "1               3.41853           2004.0  \n",
      "2               3.41853           2004.0  \n",
      "3               3.41853           2004.0  \n",
      "4               3.41853           2004.0  \n",
      "Memory consumed by test set      :   991.8214111328125 MB\n",
      "CPU times: user 20.8 s, sys: 2.3 s, total: 23.1 s\n",
      "Wall time: 23.1 s\n"
     ]
    }
   ],
   "source": [
    "%%time\n",
    "\n",
    "'''\n",
    "# load the data in chunks ~ get a generator\n",
    "with pd.read_sas(os.path.join(folder, \"combined_netflix_data.sas7bdat\"), chunksize=1000000) as reader:\n",
    "    for i,chunk in enumerate(reader):\n",
    "        print(i, end=' ')\n",
    "        if i % 10 == 29:\n",
    "            print()\n",
    "'''\n",
    "\n",
    "# read a chunk of 5M lines\n",
    "reader = pd.read_sas(data_path, chunksize=10_000_000)\n",
    "\n",
    "data = next(reader)\n",
    "\n",
    "print(data.head())\n",
    "print(\"Memory consumed by test set      :   {} MB\" .format(data.memory_usage(index=True).sum()/ 1024**2))"
   ]
  },
  {
   "cell_type": "code",
   "execution_count": 15,
   "id": "ae454f6f",
   "metadata": {
    "scrolled": false
   },
   "outputs": [
    {
     "name": "stdout",
     "output_type": "stream",
     "text": [
      "User_ID null values: False\n",
      "Movie_ID null values: False\n",
      "Year null values: False\n",
      "Rated null values: False\n",
      "Ratings_for_Movie null values: False\n",
      "Ratings_for_Movie_2005 null values: False\n",
      "Netflix_Release_Year null values: False\n",
      "Release_Year null values: True\n",
      "AVG_Rating_for_Movie null values: False\n",
      "Ratings_from_User null values: False\n",
      "Ratings_from_User_2005 null values: False\n",
      "AVG_Rating_from_User null values: False\n",
      "User_Entry_Year null values: False\n"
     ]
    }
   ],
   "source": [
    "# check if any columns are none\n",
    "for c in data.columns:\n",
    "    print(c, \"null values:\", data[c].isnull().values.any())"
   ]
  },
  {
   "cell_type": "code",
   "execution_count": 19,
   "id": "6e70e1f0",
   "metadata": {},
   "outputs": [
    {
     "data": {
      "text/html": [
       "<div>\n",
       "<style scoped>\n",
       "    .dataframe tbody tr th:only-of-type {\n",
       "        vertical-align: middle;\n",
       "    }\n",
       "\n",
       "    .dataframe tbody tr th {\n",
       "        vertical-align: top;\n",
       "    }\n",
       "\n",
       "    .dataframe thead th {\n",
       "        text-align: right;\n",
       "    }\n",
       "</style>\n",
       "<table border=\"1\" class=\"dataframe\">\n",
       "  <thead>\n",
       "    <tr style=\"text-align: right;\">\n",
       "      <th></th>\n",
       "      <th>User_ID</th>\n",
       "      <th>Movie_ID</th>\n",
       "      <th>Year</th>\n",
       "      <th>Ratings_for_Movie</th>\n",
       "      <th>Ratings_for_Movie_2005</th>\n",
       "      <th>Netflix_Release_Year</th>\n",
       "      <th>Release_Year</th>\n",
       "      <th>AVG_Rating_for_Movie</th>\n",
       "      <th>Ratings_from_User</th>\n",
       "      <th>Ratings_from_User_2005</th>\n",
       "      <th>AVG_Rating_from_User</th>\n",
       "      <th>User_Entry_Year</th>\n",
       "    </tr>\n",
       "  </thead>\n",
       "  <tbody>\n",
       "    <tr>\n",
       "      <th>0</th>\n",
       "      <td>6.0</td>\n",
       "      <td>15758.0</td>\n",
       "      <td>2005.0</td>\n",
       "      <td>58576.0</td>\n",
       "      <td>28592.0</td>\n",
       "      <td>1999.0</td>\n",
       "      <td>1984.0</td>\n",
       "      <td>4.067878</td>\n",
       "      <td>626.0</td>\n",
       "      <td>310.0</td>\n",
       "      <td>3.41853</td>\n",
       "      <td>2004.0</td>\n",
       "    </tr>\n",
       "    <tr>\n",
       "      <th>1</th>\n",
       "      <td>6.0</td>\n",
       "      <td>7828.0</td>\n",
       "      <td>2004.0</td>\n",
       "      <td>43354.0</td>\n",
       "      <td>22975.0</td>\n",
       "      <td>1999.0</td>\n",
       "      <td>1999.0</td>\n",
       "      <td>3.496079</td>\n",
       "      <td>626.0</td>\n",
       "      <td>310.0</td>\n",
       "      <td>3.41853</td>\n",
       "      <td>2004.0</td>\n",
       "    </tr>\n",
       "    <tr>\n",
       "      <th>2</th>\n",
       "      <td>6.0</td>\n",
       "      <td>15764.0</td>\n",
       "      <td>2004.0</td>\n",
       "      <td>59352.0</td>\n",
       "      <td>16044.0</td>\n",
       "      <td>2003.0</td>\n",
       "      <td>2003.0</td>\n",
       "      <td>2.906777</td>\n",
       "      <td>626.0</td>\n",
       "      <td>310.0</td>\n",
       "      <td>3.41853</td>\n",
       "      <td>2004.0</td>\n",
       "    </tr>\n",
       "    <tr>\n",
       "      <th>3</th>\n",
       "      <td>6.0</td>\n",
       "      <td>15764.0</td>\n",
       "      <td>2004.0</td>\n",
       "      <td>59352.0</td>\n",
       "      <td>16044.0</td>\n",
       "      <td>2003.0</td>\n",
       "      <td>2003.0</td>\n",
       "      <td>2.906777</td>\n",
       "      <td>626.0</td>\n",
       "      <td>310.0</td>\n",
       "      <td>3.41853</td>\n",
       "      <td>2004.0</td>\n",
       "    </tr>\n",
       "    <tr>\n",
       "      <th>4</th>\n",
       "      <td>6.0</td>\n",
       "      <td>4141.0</td>\n",
       "      <td>2005.0</td>\n",
       "      <td>45636.0</td>\n",
       "      <td>19845.0</td>\n",
       "      <td>2000.0</td>\n",
       "      <td>2000.0</td>\n",
       "      <td>3.541743</td>\n",
       "      <td>626.0</td>\n",
       "      <td>310.0</td>\n",
       "      <td>3.41853</td>\n",
       "      <td>2004.0</td>\n",
       "    </tr>\n",
       "  </tbody>\n",
       "</table>\n",
       "</div>"
      ],
      "text/plain": [
       "   User_ID  Movie_ID    Year  Ratings_for_Movie  Ratings_for_Movie_2005  \\\n",
       "0      6.0   15758.0  2005.0            58576.0                 28592.0   \n",
       "1      6.0    7828.0  2004.0            43354.0                 22975.0   \n",
       "2      6.0   15764.0  2004.0            59352.0                 16044.0   \n",
       "3      6.0   15764.0  2004.0            59352.0                 16044.0   \n",
       "4      6.0    4141.0  2005.0            45636.0                 19845.0   \n",
       "\n",
       "   Netflix_Release_Year  Release_Year  AVG_Rating_for_Movie  \\\n",
       "0                1999.0        1984.0              4.067878   \n",
       "1                1999.0        1999.0              3.496079   \n",
       "2                2003.0        2003.0              2.906777   \n",
       "3                2003.0        2003.0              2.906777   \n",
       "4                2000.0        2000.0              3.541743   \n",
       "\n",
       "   Ratings_from_User  Ratings_from_User_2005  AVG_Rating_from_User  \\\n",
       "0              626.0                   310.0               3.41853   \n",
       "1              626.0                   310.0               3.41853   \n",
       "2              626.0                   310.0               3.41853   \n",
       "3              626.0                   310.0               3.41853   \n",
       "4              626.0                   310.0               3.41853   \n",
       "\n",
       "   User_Entry_Year  \n",
       "0           2004.0  \n",
       "1           2004.0  \n",
       "2           2004.0  \n",
       "3           2004.0  \n",
       "4           2004.0  "
      ]
     },
     "execution_count": 19,
     "metadata": {},
     "output_type": "execute_result"
    }
   ],
   "source": [
    "Y = data[\"Rated\"]\n",
    "X = data.drop(['Rated'], axis=1)\n",
    "\n",
    "X.head()"
   ]
  },
  {
   "cell_type": "code",
   "execution_count": 21,
   "id": "1c1f84df",
   "metadata": {
    "scrolled": true
   },
   "outputs": [
    {
     "name": "stdout",
     "output_type": "stream",
     "text": [
      "[LightGBM] [Info] Saving data to binary file /projectnb/cs542sp/netflix_wrw2/CS542-final-project/temp.bin\n"
     ]
    },
    {
     "data": {
      "text/plain": [
       "<lightgbm.basic.Dataset at 0x2b40d46c7c10>"
      ]
     },
     "execution_count": 21,
     "metadata": {},
     "output_type": "execute_result"
    }
   ],
   "source": [
    "# test and train set\n",
    "lgbm_data = lgbm.Dataset(X,label=Y)\n",
    "\n",
    "# save testing data\n",
    "lgbm_data.save_binary(os.path.join(folder, 'temp.bin'))"
   ]
  },
  {
   "cell_type": "code",
   "execution_count": 26,
   "id": "0e5d6b70",
   "metadata": {},
   "outputs": [
    {
     "name": "stdout",
     "output_type": "stream",
     "text": [
      "Memory consumed by test set      :   991.8214111328125 MB\n"
     ]
    },
    {
     "data": {
      "text/html": [
       "<div>\n",
       "<style scoped>\n",
       "    .dataframe tbody tr th:only-of-type {\n",
       "        vertical-align: middle;\n",
       "    }\n",
       "\n",
       "    .dataframe tbody tr th {\n",
       "        vertical-align: top;\n",
       "    }\n",
       "\n",
       "    .dataframe thead th {\n",
       "        text-align: right;\n",
       "    }\n",
       "</style>\n",
       "<table border=\"1\" class=\"dataframe\">\n",
       "  <thead>\n",
       "    <tr style=\"text-align: right;\">\n",
       "      <th></th>\n",
       "      <th>User_ID</th>\n",
       "      <th>Movie_ID</th>\n",
       "      <th>Year</th>\n",
       "      <th>Rated</th>\n",
       "      <th>Ratings_for_Movie</th>\n",
       "      <th>Ratings_for_Movie_2005</th>\n",
       "      <th>Netflix_Release_Year</th>\n",
       "      <th>Release_Year</th>\n",
       "      <th>AVG_Rating_for_Movie</th>\n",
       "      <th>Ratings_from_User</th>\n",
       "      <th>Ratings_from_User_2005</th>\n",
       "      <th>AVG_Rating_from_User</th>\n",
       "      <th>User_Entry_Year</th>\n",
       "    </tr>\n",
       "  </thead>\n",
       "  <tbody>\n",
       "    <tr>\n",
       "      <th>0</th>\n",
       "      <td>6.0</td>\n",
       "      <td>15758.0</td>\n",
       "      <td>2005.0</td>\n",
       "      <td>0.0</td>\n",
       "      <td>58576.0</td>\n",
       "      <td>28592.0</td>\n",
       "      <td>1999.0</td>\n",
       "      <td>1984.0</td>\n",
       "      <td>4.067878</td>\n",
       "      <td>626.0</td>\n",
       "      <td>310.0</td>\n",
       "      <td>3.41853</td>\n",
       "      <td>2004.0</td>\n",
       "    </tr>\n",
       "    <tr>\n",
       "      <th>1</th>\n",
       "      <td>6.0</td>\n",
       "      <td>7828.0</td>\n",
       "      <td>2004.0</td>\n",
       "      <td>0.0</td>\n",
       "      <td>43354.0</td>\n",
       "      <td>22975.0</td>\n",
       "      <td>1999.0</td>\n",
       "      <td>1999.0</td>\n",
       "      <td>3.496079</td>\n",
       "      <td>626.0</td>\n",
       "      <td>310.0</td>\n",
       "      <td>3.41853</td>\n",
       "      <td>2004.0</td>\n",
       "    </tr>\n",
       "    <tr>\n",
       "      <th>2</th>\n",
       "      <td>6.0</td>\n",
       "      <td>15764.0</td>\n",
       "      <td>2004.0</td>\n",
       "      <td>0.0</td>\n",
       "      <td>59352.0</td>\n",
       "      <td>16044.0</td>\n",
       "      <td>2003.0</td>\n",
       "      <td>2003.0</td>\n",
       "      <td>2.906777</td>\n",
       "      <td>626.0</td>\n",
       "      <td>310.0</td>\n",
       "      <td>3.41853</td>\n",
       "      <td>2004.0</td>\n",
       "    </tr>\n",
       "    <tr>\n",
       "      <th>3</th>\n",
       "      <td>6.0</td>\n",
       "      <td>15764.0</td>\n",
       "      <td>2004.0</td>\n",
       "      <td>0.0</td>\n",
       "      <td>59352.0</td>\n",
       "      <td>16044.0</td>\n",
       "      <td>2003.0</td>\n",
       "      <td>2003.0</td>\n",
       "      <td>2.906777</td>\n",
       "      <td>626.0</td>\n",
       "      <td>310.0</td>\n",
       "      <td>3.41853</td>\n",
       "      <td>2004.0</td>\n",
       "    </tr>\n",
       "    <tr>\n",
       "      <th>4</th>\n",
       "      <td>6.0</td>\n",
       "      <td>4141.0</td>\n",
       "      <td>2005.0</td>\n",
       "      <td>0.0</td>\n",
       "      <td>45636.0</td>\n",
       "      <td>19845.0</td>\n",
       "      <td>2000.0</td>\n",
       "      <td>2000.0</td>\n",
       "      <td>3.541743</td>\n",
       "      <td>626.0</td>\n",
       "      <td>310.0</td>\n",
       "      <td>3.41853</td>\n",
       "      <td>2004.0</td>\n",
       "    </tr>\n",
       "  </tbody>\n",
       "</table>\n",
       "</div>"
      ],
      "text/plain": [
       "   User_ID  Movie_ID    Year  Rated  Ratings_for_Movie  \\\n",
       "0      6.0   15758.0  2005.0    0.0            58576.0   \n",
       "1      6.0    7828.0  2004.0    0.0            43354.0   \n",
       "2      6.0   15764.0  2004.0    0.0            59352.0   \n",
       "3      6.0   15764.0  2004.0    0.0            59352.0   \n",
       "4      6.0    4141.0  2005.0    0.0            45636.0   \n",
       "\n",
       "   Ratings_for_Movie_2005  Netflix_Release_Year  Release_Year  \\\n",
       "0                 28592.0                1999.0        1984.0   \n",
       "1                 22975.0                1999.0        1999.0   \n",
       "2                 16044.0                2003.0        2003.0   \n",
       "3                 16044.0                2003.0        2003.0   \n",
       "4                 19845.0                2000.0        2000.0   \n",
       "\n",
       "   AVG_Rating_for_Movie  Ratings_from_User  Ratings_from_User_2005  \\\n",
       "0              4.067878              626.0                   310.0   \n",
       "1              3.496079              626.0                   310.0   \n",
       "2              2.906777              626.0                   310.0   \n",
       "3              2.906777              626.0                   310.0   \n",
       "4              3.541743              626.0                   310.0   \n",
       "\n",
       "   AVG_Rating_from_User  User_Entry_Year  \n",
       "0               3.41853           2004.0  \n",
       "1               3.41853           2004.0  \n",
       "2               3.41853           2004.0  \n",
       "3               3.41853           2004.0  \n",
       "4               3.41853           2004.0  "
      ]
     },
     "execution_count": 26,
     "metadata": {},
     "output_type": "execute_result"
    }
   ],
   "source": [
    "# get validation data\n",
    "\n",
    "# read a chunk of 5M lines\n",
    "reader = pd.read_sas(data_path, chunksize=1_000_000)\n",
    "\n",
    "vdata = next(reader)\n",
    "\n",
    "print(\"Memory consumed by test set      :   {} MB\" .format(data.memory_usage(index=True).sum()/ 1024**2))\n",
    "\n",
    "vdata.head()"
   ]
  },
  {
   "cell_type": "code",
   "execution_count": null,
   "id": "d1a68810",
   "metadata": {},
   "outputs": [],
   "source": [
    "validation_data = lgbm_data.create_valid(vdata.drop([]'Rated'), label = vdata['Rated'])"
   ]
  },
  {
   "cell_type": "code",
   "execution_count": 24,
   "id": "9e7d3dae",
   "metadata": {
    "scrolled": true
   },
   "outputs": [
    {
     "name": "stdout",
     "output_type": "stream",
     "text": [
      "[LightGBM] [Info] Number of positive: 4109670, number of negative: 5890330\n",
      "[LightGBM] [Warning] Auto-choosing row-wise multi-threading, the overhead of testing was 0.491167 seconds.\n",
      "You can set `force_row_wise=true` to remove the overhead.\n",
      "And if memory is not enough, you can set `force_col_wise=true`.\n",
      "[LightGBM] [Info] Total Bins 2154\n",
      "[LightGBM] [Info] Number of data points in the train set: 10000000, number of used features: 12\n"
     ]
    },
    {
     "ename": "LightGBMError",
     "evalue": "Cannot open data file validation.svm",
     "output_type": "error",
     "traceback": [
      "\u001b[0;31m---------------------------------------------------------------------------\u001b[0m",
      "\u001b[0;31mLightGBMError\u001b[0m                             Traceback (most recent call last)",
      "\u001b[0;32m<ipython-input-24-b960f2412055>\u001b[0m in \u001b[0;36m<module>\u001b[0;34m\u001b[0m\n\u001b[1;32m      8\u001b[0m \u001b[0mnum_round\u001b[0m \u001b[0;34m=\u001b[0m \u001b[0;36m5\u001b[0m\u001b[0;34m\u001b[0m\u001b[0;34m\u001b[0m\u001b[0m\n\u001b[1;32m      9\u001b[0m \u001b[0;34m\u001b[0m\u001b[0m\n\u001b[0;32m---> 10\u001b[0;31m \u001b[0mbst\u001b[0m \u001b[0;34m=\u001b[0m \u001b[0mlgbm\u001b[0m\u001b[0;34m.\u001b[0m\u001b[0mtrain\u001b[0m\u001b[0;34m(\u001b[0m\u001b[0mparam\u001b[0m\u001b[0;34m,\u001b[0m \u001b[0mlgbm_data\u001b[0m\u001b[0;34m,\u001b[0m \u001b[0mnum_round\u001b[0m\u001b[0;34m,\u001b[0m \u001b[0mvalid_sets\u001b[0m\u001b[0;34m=\u001b[0m\u001b[0;34m[\u001b[0m\u001b[0mvalidation_data\u001b[0m\u001b[0;34m]\u001b[0m\u001b[0;34m)\u001b[0m\u001b[0;34m\u001b[0m\u001b[0;34m\u001b[0m\u001b[0m\n\u001b[0m",
      "\u001b[0;32m~/.local/lib/python3.8/site-packages/lightgbm/engine.py\u001b[0m in \u001b[0;36mtrain\u001b[0;34m(params, train_set, num_boost_round, valid_sets, valid_names, fobj, feval, init_model, feature_name, categorical_feature, early_stopping_rounds, evals_result, verbose_eval, learning_rates, keep_training_booster, callbacks)\u001b[0m\n\u001b[1;32m    230\u001b[0m             \u001b[0mbooster\u001b[0m\u001b[0;34m.\u001b[0m\u001b[0mset_train_data_name\u001b[0m\u001b[0;34m(\u001b[0m\u001b[0mtrain_data_name\u001b[0m\u001b[0;34m)\u001b[0m\u001b[0;34m\u001b[0m\u001b[0;34m\u001b[0m\u001b[0m\n\u001b[1;32m    231\u001b[0m         \u001b[0;32mfor\u001b[0m \u001b[0mvalid_set\u001b[0m\u001b[0;34m,\u001b[0m \u001b[0mname_valid_set\u001b[0m \u001b[0;32min\u001b[0m \u001b[0mzip\u001b[0m\u001b[0;34m(\u001b[0m\u001b[0mreduced_valid_sets\u001b[0m\u001b[0;34m,\u001b[0m \u001b[0mname_valid_sets\u001b[0m\u001b[0;34m)\u001b[0m\u001b[0;34m:\u001b[0m\u001b[0;34m\u001b[0m\u001b[0;34m\u001b[0m\u001b[0m\n\u001b[0;32m--> 232\u001b[0;31m             \u001b[0mbooster\u001b[0m\u001b[0;34m.\u001b[0m\u001b[0madd_valid\u001b[0m\u001b[0;34m(\u001b[0m\u001b[0mvalid_set\u001b[0m\u001b[0;34m,\u001b[0m \u001b[0mname_valid_set\u001b[0m\u001b[0;34m)\u001b[0m\u001b[0;34m\u001b[0m\u001b[0;34m\u001b[0m\u001b[0m\n\u001b[0m\u001b[1;32m    233\u001b[0m     \u001b[0;32mfinally\u001b[0m\u001b[0;34m:\u001b[0m\u001b[0;34m\u001b[0m\u001b[0;34m\u001b[0m\u001b[0m\n\u001b[1;32m    234\u001b[0m         \u001b[0mtrain_set\u001b[0m\u001b[0;34m.\u001b[0m\u001b[0m_reverse_update_params\u001b[0m\u001b[0;34m(\u001b[0m\u001b[0;34m)\u001b[0m\u001b[0;34m\u001b[0m\u001b[0;34m\u001b[0m\u001b[0m\n",
      "\u001b[0;32m~/.local/lib/python3.8/site-packages/lightgbm/basic.py\u001b[0m in \u001b[0;36madd_valid\u001b[0;34m(self, data, name)\u001b[0m\n\u001b[1;32m   2557\u001b[0m         _safe_call(_LIB.LGBM_BoosterAddValidData(\n\u001b[1;32m   2558\u001b[0m             \u001b[0mself\u001b[0m\u001b[0;34m.\u001b[0m\u001b[0mhandle\u001b[0m\u001b[0;34m,\u001b[0m\u001b[0;34m\u001b[0m\u001b[0;34m\u001b[0m\u001b[0m\n\u001b[0;32m-> 2559\u001b[0;31m             data.construct().handle))\n\u001b[0m\u001b[1;32m   2560\u001b[0m         \u001b[0mself\u001b[0m\u001b[0;34m.\u001b[0m\u001b[0mvalid_sets\u001b[0m\u001b[0;34m.\u001b[0m\u001b[0mappend\u001b[0m\u001b[0;34m(\u001b[0m\u001b[0mdata\u001b[0m\u001b[0;34m)\u001b[0m\u001b[0;34m\u001b[0m\u001b[0;34m\u001b[0m\u001b[0m\n\u001b[1;32m   2561\u001b[0m         \u001b[0mself\u001b[0m\u001b[0;34m.\u001b[0m\u001b[0mname_valid_sets\u001b[0m\u001b[0;34m.\u001b[0m\u001b[0mappend\u001b[0m\u001b[0;34m(\u001b[0m\u001b[0mname\u001b[0m\u001b[0;34m)\u001b[0m\u001b[0;34m\u001b[0m\u001b[0;34m\u001b[0m\u001b[0m\n",
      "\u001b[0;32m~/.local/lib/python3.8/site-packages/lightgbm/basic.py\u001b[0m in \u001b[0;36mconstruct\u001b[0;34m(self)\u001b[0m\n\u001b[1;32m   1435\u001b[0m                 \u001b[0;32mif\u001b[0m \u001b[0mself\u001b[0m\u001b[0;34m.\u001b[0m\u001b[0mused_indices\u001b[0m \u001b[0;32mis\u001b[0m \u001b[0;32mNone\u001b[0m\u001b[0;34m:\u001b[0m\u001b[0;34m\u001b[0m\u001b[0;34m\u001b[0m\u001b[0m\n\u001b[1;32m   1436\u001b[0m                     \u001b[0;31m# create valid\u001b[0m\u001b[0;34m\u001b[0m\u001b[0;34m\u001b[0m\u001b[0;34m\u001b[0m\u001b[0m\n\u001b[0;32m-> 1437\u001b[0;31m                     self._lazy_init(self.data, label=self.label, reference=self.reference,\n\u001b[0m\u001b[1;32m   1438\u001b[0m                                     \u001b[0mweight\u001b[0m\u001b[0;34m=\u001b[0m\u001b[0mself\u001b[0m\u001b[0;34m.\u001b[0m\u001b[0mweight\u001b[0m\u001b[0;34m,\u001b[0m \u001b[0mgroup\u001b[0m\u001b[0;34m=\u001b[0m\u001b[0mself\u001b[0m\u001b[0;34m.\u001b[0m\u001b[0mgroup\u001b[0m\u001b[0;34m,\u001b[0m\u001b[0;34m\u001b[0m\u001b[0;34m\u001b[0m\u001b[0m\n\u001b[1;32m   1439\u001b[0m                                     \u001b[0minit_score\u001b[0m\u001b[0;34m=\u001b[0m\u001b[0mself\u001b[0m\u001b[0;34m.\u001b[0m\u001b[0minit_score\u001b[0m\u001b[0;34m,\u001b[0m \u001b[0mpredictor\u001b[0m\u001b[0;34m=\u001b[0m\u001b[0mself\u001b[0m\u001b[0;34m.\u001b[0m\u001b[0m_predictor\u001b[0m\u001b[0;34m,\u001b[0m\u001b[0;34m\u001b[0m\u001b[0;34m\u001b[0m\u001b[0m\n",
      "\u001b[0;32m~/.local/lib/python3.8/site-packages/lightgbm/basic.py\u001b[0m in \u001b[0;36m_lazy_init\u001b[0;34m(self, data, label, reference, weight, group, init_score, predictor, silent, feature_name, categorical_feature, params)\u001b[0m\n\u001b[1;32m   1258\u001b[0m         \u001b[0;32mif\u001b[0m \u001b[0misinstance\u001b[0m\u001b[0;34m(\u001b[0m\u001b[0mdata\u001b[0m\u001b[0;34m,\u001b[0m \u001b[0mstr\u001b[0m\u001b[0;34m)\u001b[0m\u001b[0;34m:\u001b[0m\u001b[0;34m\u001b[0m\u001b[0;34m\u001b[0m\u001b[0m\n\u001b[1;32m   1259\u001b[0m             \u001b[0mself\u001b[0m\u001b[0;34m.\u001b[0m\u001b[0mhandle\u001b[0m \u001b[0;34m=\u001b[0m \u001b[0mctypes\u001b[0m\u001b[0;34m.\u001b[0m\u001b[0mc_void_p\u001b[0m\u001b[0;34m(\u001b[0m\u001b[0;34m)\u001b[0m\u001b[0;34m\u001b[0m\u001b[0;34m\u001b[0m\u001b[0m\n\u001b[0;32m-> 1260\u001b[0;31m             _safe_call(_LIB.LGBM_DatasetCreateFromFile(\n\u001b[0m\u001b[1;32m   1261\u001b[0m                 \u001b[0mc_str\u001b[0m\u001b[0;34m(\u001b[0m\u001b[0mdata\u001b[0m\u001b[0;34m)\u001b[0m\u001b[0;34m,\u001b[0m\u001b[0;34m\u001b[0m\u001b[0;34m\u001b[0m\u001b[0m\n\u001b[1;32m   1262\u001b[0m                 \u001b[0mc_str\u001b[0m\u001b[0;34m(\u001b[0m\u001b[0mparams_str\u001b[0m\u001b[0;34m)\u001b[0m\u001b[0;34m,\u001b[0m\u001b[0;34m\u001b[0m\u001b[0;34m\u001b[0m\u001b[0m\n",
      "\u001b[0;32m~/.local/lib/python3.8/site-packages/lightgbm/basic.py\u001b[0m in \u001b[0;36m_safe_call\u001b[0;34m(ret)\u001b[0m\n\u001b[1;32m    108\u001b[0m     \"\"\"\n\u001b[1;32m    109\u001b[0m     \u001b[0;32mif\u001b[0m \u001b[0mret\u001b[0m \u001b[0;34m!=\u001b[0m \u001b[0;36m0\u001b[0m\u001b[0;34m:\u001b[0m\u001b[0;34m\u001b[0m\u001b[0;34m\u001b[0m\u001b[0m\n\u001b[0;32m--> 110\u001b[0;31m         \u001b[0;32mraise\u001b[0m \u001b[0mLightGBMError\u001b[0m\u001b[0;34m(\u001b[0m\u001b[0m_LIB\u001b[0m\u001b[0;34m.\u001b[0m\u001b[0mLGBM_GetLastError\u001b[0m\u001b[0;34m(\u001b[0m\u001b[0;34m)\u001b[0m\u001b[0;34m.\u001b[0m\u001b[0mdecode\u001b[0m\u001b[0;34m(\u001b[0m\u001b[0;34m'utf-8'\u001b[0m\u001b[0;34m)\u001b[0m\u001b[0;34m)\u001b[0m\u001b[0;34m\u001b[0m\u001b[0;34m\u001b[0m\u001b[0m\n\u001b[0m\u001b[1;32m    111\u001b[0m \u001b[0;34m\u001b[0m\u001b[0m\n\u001b[1;32m    112\u001b[0m \u001b[0;34m\u001b[0m\u001b[0m\n",
      "\u001b[0;31mLightGBMError\u001b[0m: Cannot open data file validation.svm"
     ]
    }
   ],
   "source": [
    "# build the model\n",
    "param = {\n",
    "    'num_leaves': 31,\n",
    "    'objective': 'binary',\n",
    "    'metric': 'auc',\n",
    "}\n",
    "\n",
    "num_round = 5\n",
    "\n",
    "bst = lgbm.train(param, lgbm_data, num_round, valid_sets=[validation_data])"
   ]
  },
  {
   "cell_type": "code",
   "execution_count": 7,
   "id": "03c0c626",
   "metadata": {},
   "outputs": [],
   "source": [
    "# test the result"
   ]
  },
  {
   "cell_type": "code",
   "execution_count": null,
   "id": "78d51b78",
   "metadata": {},
   "outputs": [],
   "source": []
  }
 ],
 "metadata": {
  "kernelspec": {
   "display_name": "Python 3",
   "language": "python",
   "name": "python3"
  },
  "language_info": {
   "codemirror_mode": {
    "name": "ipython",
    "version": 3
   },
   "file_extension": ".py",
   "mimetype": "text/x-python",
   "name": "python",
   "nbconvert_exporter": "python",
   "pygments_lexer": "ipython3",
   "version": "3.8.10"
  }
 },
 "nbformat": 4,
 "nbformat_minor": 5
}
