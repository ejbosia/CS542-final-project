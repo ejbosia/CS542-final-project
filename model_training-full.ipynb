{
 "cells": [
  {
   "cell_type": "code",
   "execution_count": 1,
   "id": "8ce1d02a",
   "metadata": {
    "scrolled": true
   },
   "outputs": [],
   "source": [
    "import numpy as np\n",
    "import lightgbm as lgbm\n",
    "import pandas as pd"
   ]
  },
  {
   "cell_type": "code",
   "execution_count": 2,
   "id": "63a2a5ad",
   "metadata": {},
   "outputs": [],
   "source": [
    "'''\n",
    "File paths\n",
    "'''\n",
    "import os\n",
    "\n",
    "folder = os.path.join(\"/projectnb\",\"cs542sp\",\"netflix_wrw2\", \"CS542-final-project\", \"data\")"
   ]
  },
  {
   "cell_type": "code",
   "execution_count": 6,
   "id": "7e153e75",
   "metadata": {
    "scrolled": true
   },
   "outputs": [
    {
     "name": "stdout",
     "output_type": "stream",
     "text": [
      "<class 'pandas.core.frame.DataFrame'>\n",
      "RangeIndex: 243642300 entries, 0 to 243642299\n",
      "Data columns (total 13 columns):\n",
      " #   Column                  Dtype  \n",
      "---  ------                  -----  \n",
      " 0   User_ID                 float64\n",
      " 1   Movie_ID                float64\n",
      " 2   Year                    float64\n",
      " 3   Rated                   float64\n",
      " 4   Ratings_for_Movie       float64\n",
      " 5   Ratings_for_Movie_2005  float64\n",
      " 6   Netflix_Release_Year    float64\n",
      " 7   Release_Year            float64\n",
      " 8   AVG_Rating_for_Movie    float64\n",
      " 9   Ratings_from_User       float64\n",
      " 10  Ratings_from_User_2005  float64\n",
      " 11  AVG_Rating_from_User    float64\n",
      " 12  User_Entry_Year         float64\n",
      "dtypes: float64(13)\n",
      "memory usage: 23.6 GB\n",
      "CPU times: user 7min 3s, sys: 59.4 s, total: 8min 2s\n",
      "Wall time: 8min 3s\n"
     ]
    }
   ],
   "source": [
    "%%time\n",
    "\n",
    "# # read in the full data :0\n",
    "# reader = pd.read_sas('data/netflix_analysis_dataset.sas7bdat', chunksize=1000)\n",
    "# data = next(reader)\n",
    "\n",
    "data = pd.read_sas('data/netflix_analysis_dataset.sas7bdat')\n",
    "\n",
    "data.info()"
   ]
  },
  {
   "cell_type": "code",
   "execution_count": 7,
   "id": "dace4485",
   "metadata": {},
   "outputs": [],
   "source": [
    "# save the data to csv (speed up?) more like slowdown yikes\n",
    "data.to_csv('data/full_data.csv')"
   ]
  },
  {
   "cell_type": "code",
   "execution_count": 10,
   "id": "e34652bf",
   "metadata": {},
   "outputs": [
    {
     "name": "stdout",
     "output_type": "stream",
     "text": [
      "CPU times: user 3min 44s, sys: 1min 6s, total: 4min 51s\n",
      "Wall time: 4min 51s\n"
     ]
    }
   ],
   "source": [
    "%%time\n",
    "# type_map = {\n",
    "#     \"User_ID\": np.uint8,\n",
    "#     \"Movie_ID\": np.uint16,\n",
    "#     \"Year\": np.uint16,\n",
    "#     \"Rated\": np.uint8,\n",
    "#     \"Ratings_for_Movie\": np.uint32,\n",
    "#     \"Ratings_for_Movie_2005\": np.uint32,\n",
    "#     \"Netflix_Release_Year\": np.uint16,\n",
    "#     \"Release_Year\": np.uint16,\n",
    "#     \"AVG_Rating_for_Movie\": np.float64,\n",
    "#     \"Ratings_from_User\": np.uint16,\n",
    "#     \"Ratings_from_User_2005\": np.uint16,\n",
    "#     \"AVG_Rating_from_User\": np.float64,\n",
    "#     \"User_Entry_Year\": np.uint16,\n",
    "# }\n",
    "type_map=None\n",
    "\n",
    "data = pd.read_csv('data/full_data.csv',dtype=type_map)"
   ]
  },
  {
   "cell_type": "code",
   "execution_count": 11,
   "id": "248adfbd",
   "metadata": {
    "scrolled": false
   },
   "outputs": [
    {
     "name": "stdout",
     "output_type": "stream",
     "text": [
      "<class 'pandas.core.frame.DataFrame'>\n",
      "Int64Index: 243639408 entries, 0 to 243642299\n",
      "Data columns (total 14 columns):\n",
      " #   Column                  Dtype  \n",
      "---  ------                  -----  \n",
      " 0   Unnamed: 0              uint32 \n",
      " 1   User_ID                 uint32 \n",
      " 2   Movie_ID                uint16 \n",
      " 3   Year                    uint16 \n",
      " 4   Rated                   uint8  \n",
      " 5   Ratings_for_Movie       uint32 \n",
      " 6   Ratings_for_Movie_2005  uint32 \n",
      " 7   Netflix_Release_Year    uint16 \n",
      " 8   Release_Year            uint16 \n",
      " 9   AVG_Rating_for_Movie    float64\n",
      " 10  Ratings_from_User       uint16 \n",
      " 11  Ratings_from_User_2005  uint16 \n",
      " 12  AVG_Rating_from_User    float64\n",
      " 13  User_Entry_Year         uint16 \n",
      "dtypes: float64(2), uint16(7), uint32(4), uint8(1)\n",
      "memory usage: 12.5 GB\n"
     ]
    }
   ],
   "source": [
    "data = data.dropna()\n",
    "\n",
    "for c in data.columns:\n",
    "    data.loc[:,c] = pd.to_numeric(data.loc[:,c], downcast=\"unsigned\")\n",
    "    \n",
    "data.info()"
   ]
  },
  {
   "cell_type": "code",
   "execution_count": 19,
   "id": "b60c2d98",
   "metadata": {},
   "outputs": [],
   "source": [
    "data = data.drop(['Unnamed: 0'], axis=1)"
   ]
  },
  {
   "cell_type": "code",
   "execution_count": 20,
   "id": "5587af8a",
   "metadata": {},
   "outputs": [],
   "source": [
    "\n",
    "X = data.drop(['Rated'], axis=1)\n",
    "Y = data.loc[:,\"Rated\"]"
   ]
  },
  {
   "cell_type": "code",
   "execution_count": 22,
   "id": "ccb32ba2",
   "metadata": {
    "scrolled": true
   },
   "outputs": [],
   "source": [
    "from sklearn.model_selection import train_test_split\n",
    "X_train, X_valid, y_train, y_valid = train_test_split(X, Y, test_size = 0.25, random_state = 0)"
   ]
  },
  {
   "cell_type": "code",
   "execution_count": 34,
   "id": "61aea0a2",
   "metadata": {},
   "outputs": [],
   "source": [
    "from lightgbm import Dataset\n",
    "\n",
    "train_data = Dataset(X_train, label=y_train, categorical_feature =[0,1])\n",
    "\n",
    "valid_set = Dataset(X_valid, label=y_valid, reference=train_data, categorical_feature =[0,1])"
   ]
  },
  {
   "cell_type": "code",
   "execution_count": 26,
   "id": "d83e0c64",
   "metadata": {},
   "outputs": [
    {
     "data": {
      "text/plain": [
       "32"
      ]
     },
     "execution_count": 26,
     "metadata": {},
     "output_type": "execute_result"
    }
   ],
   "source": [
    "os.cpu_count()"
   ]
  },
  {
   "cell_type": "code",
   "execution_count": 35,
   "id": "0afaa8a7",
   "metadata": {
    "scrolled": false
   },
   "outputs": [
    {
     "name": "stdout",
     "output_type": "stream",
     "text": [
      "[LightGBM] [Info] Number of positive: 75359793, number of negative: 107369763\n",
      "[LightGBM] [Warning] Auto-choosing row-wise multi-threading, the overhead of testing was 1.231565 seconds.\n",
      "You can set `force_row_wise=true` to remove the overhead.\n",
      "And if memory is not enough, you can set `force_col_wise=true`.\n",
      "[LightGBM] [Info] Total Bins 23469\n",
      "[LightGBM] [Info] Number of data points in the train set: 182729556, number of used features: 12\n",
      "[LightGBM] [Info] Using GOSS\n"
     ]
    },
    {
     "name": "stderr",
     "output_type": "stream",
     "text": [
      "/usr4/cs542sp/ejbosia/.local/lib/python3.8/site-packages/lightgbm/basic.py:1433: UserWarning: Overriding the parameters from Reference Dataset.\n",
      "  _log_warning('Overriding the parameters from Reference Dataset.')\n",
      "/usr4/cs542sp/ejbosia/.local/lib/python3.8/site-packages/lightgbm/basic.py:1245: UserWarning: categorical_column in param dict is overridden.\n",
      "  _log_warning('{} in param dict is overridden.'.format(cat_alias))\n"
     ]
    },
    {
     "name": "stdout",
     "output_type": "stream",
     "text": [
      "[21]\tvalid_0's binary_logloss: 0.631871\n",
      "Training until validation scores don't improve for 10 rounds\n",
      "[22]\tvalid_0's binary_logloss: 0.631076\n",
      "[23]\tvalid_0's binary_logloss: 0.630186\n",
      "[24]\tvalid_0's binary_logloss: 0.629554\n",
      "[25]\tvalid_0's binary_logloss: 0.628903\n",
      "[26]\tvalid_0's binary_logloss: 0.628317\n",
      "[27]\tvalid_0's binary_logloss: 0.627733\n",
      "[28]\tvalid_0's binary_logloss: 0.627212\n",
      "[29]\tvalid_0's binary_logloss: 0.626797\n",
      "[30]\tvalid_0's binary_logloss: 0.626304\n",
      "[31]\tvalid_0's binary_logloss: 0.625925\n",
      "[32]\tvalid_0's binary_logloss: 0.625599\n",
      "[33]\tvalid_0's binary_logloss: 0.625277\n",
      "[34]\tvalid_0's binary_logloss: 0.625014\n",
      "[35]\tvalid_0's binary_logloss: 0.624686\n",
      "[36]\tvalid_0's binary_logloss: 0.624431\n",
      "[37]\tvalid_0's binary_logloss: 0.624113\n",
      "[38]\tvalid_0's binary_logloss: 0.623887\n",
      "[39]\tvalid_0's binary_logloss: 0.623666\n",
      "[40]\tvalid_0's binary_logloss: 0.623416\n",
      "[41]\tvalid_0's binary_logloss: 0.623226\n",
      "[42]\tvalid_0's binary_logloss: 0.623072\n",
      "[43]\tvalid_0's binary_logloss: 0.622873\n",
      "[44]\tvalid_0's binary_logloss: 0.622709\n",
      "[45]\tvalid_0's binary_logloss: 0.622491\n",
      "[46]\tvalid_0's binary_logloss: 0.62229\n",
      "[47]\tvalid_0's binary_logloss: 0.622142\n",
      "[48]\tvalid_0's binary_logloss: 0.622019\n",
      "[49]\tvalid_0's binary_logloss: 0.621875\n",
      "[50]\tvalid_0's binary_logloss: 0.62176\n",
      "[51]\tvalid_0's binary_logloss: 0.621681\n",
      "[52]\tvalid_0's binary_logloss: 0.621498\n",
      "[53]\tvalid_0's binary_logloss: 0.621297\n",
      "[54]\tvalid_0's binary_logloss: 0.621126\n",
      "[55]\tvalid_0's binary_logloss: 0.621001\n",
      "[56]\tvalid_0's binary_logloss: 0.620925\n",
      "[57]\tvalid_0's binary_logloss: 0.620849\n",
      "[58]\tvalid_0's binary_logloss: 0.620733\n",
      "[59]\tvalid_0's binary_logloss: 0.620678\n",
      "[60]\tvalid_0's binary_logloss: 0.620622\n",
      "[61]\tvalid_0's binary_logloss: 0.62059\n",
      "[62]\tvalid_0's binary_logloss: 0.62055\n",
      "[63]\tvalid_0's binary_logloss: 0.620463\n",
      "[64]\tvalid_0's binary_logloss: 0.620419\n",
      "[65]\tvalid_0's binary_logloss: 0.620394\n",
      "[66]\tvalid_0's binary_logloss: 0.620311\n",
      "[67]\tvalid_0's binary_logloss: 0.620274\n",
      "[68]\tvalid_0's binary_logloss: 0.62025\n",
      "[69]\tvalid_0's binary_logloss: 0.620231\n"
     ]
    },
    {
     "name": "stderr",
     "output_type": "stream",
     "text": [
      "Exception ignored in: <function Booster.__del__ at 0x2af3f60a51f0>\n",
      "Traceback (most recent call last):\n",
      "  File \"/usr4/cs542sp/ejbosia/.local/lib/python3.8/site-packages/lightgbm/basic.py\", line 2281, in __del__\n",
      "    try:\n",
      "KeyboardInterrupt: \n"
     ]
    },
    {
     "ename": "KeyboardInterrupt",
     "evalue": "",
     "output_type": "error",
     "traceback": [
      "\u001b[0;31m---------------------------------------------------------------------------\u001b[0m",
      "\u001b[0;31mKeyboardInterrupt\u001b[0m                         Traceback (most recent call last)",
      "\u001b[0;32m<timed exec>\u001b[0m in \u001b[0;36m<module>\u001b[0;34m\u001b[0m\n",
      "\u001b[0;32m~/.local/lib/python3.8/site-packages/lightgbm/engine.py\u001b[0m in \u001b[0;36mtrain\u001b[0;34m(params, train_set, num_boost_round, valid_sets, valid_names, fobj, feval, init_model, feature_name, categorical_feature, early_stopping_rounds, evals_result, verbose_eval, learning_rates, keep_training_booster, callbacks)\u001b[0m\n\u001b[1;32m    247\u001b[0m                                     evaluation_result_list=None))\n\u001b[1;32m    248\u001b[0m \u001b[0;34m\u001b[0m\u001b[0m\n\u001b[0;32m--> 249\u001b[0;31m         \u001b[0mbooster\u001b[0m\u001b[0;34m.\u001b[0m\u001b[0mupdate\u001b[0m\u001b[0;34m(\u001b[0m\u001b[0mfobj\u001b[0m\u001b[0;34m=\u001b[0m\u001b[0mfobj\u001b[0m\u001b[0;34m)\u001b[0m\u001b[0;34m\u001b[0m\u001b[0;34m\u001b[0m\u001b[0m\n\u001b[0m\u001b[1;32m    250\u001b[0m \u001b[0;34m\u001b[0m\u001b[0m\n\u001b[1;32m    251\u001b[0m         \u001b[0mevaluation_result_list\u001b[0m \u001b[0;34m=\u001b[0m \u001b[0;34m[\u001b[0m\u001b[0;34m]\u001b[0m\u001b[0;34m\u001b[0m\u001b[0;34m\u001b[0m\u001b[0m\n",
      "\u001b[0;32m~/.local/lib/python3.8/site-packages/lightgbm/basic.py\u001b[0m in \u001b[0;36mupdate\u001b[0;34m(self, train_set, fobj)\u001b[0m\n\u001b[1;32m   2641\u001b[0m             \u001b[0;32mif\u001b[0m \u001b[0mself\u001b[0m\u001b[0;34m.\u001b[0m\u001b[0m__set_objective_to_none\u001b[0m\u001b[0;34m:\u001b[0m\u001b[0;34m\u001b[0m\u001b[0;34m\u001b[0m\u001b[0m\n\u001b[1;32m   2642\u001b[0m                 \u001b[0;32mraise\u001b[0m \u001b[0mLightGBMError\u001b[0m\u001b[0;34m(\u001b[0m\u001b[0;34m'Cannot update due to null objective function.'\u001b[0m\u001b[0;34m)\u001b[0m\u001b[0;34m\u001b[0m\u001b[0;34m\u001b[0m\u001b[0m\n\u001b[0;32m-> 2643\u001b[0;31m             _safe_call(_LIB.LGBM_BoosterUpdateOneIter(\n\u001b[0m\u001b[1;32m   2644\u001b[0m                 \u001b[0mself\u001b[0m\u001b[0;34m.\u001b[0m\u001b[0mhandle\u001b[0m\u001b[0;34m,\u001b[0m\u001b[0;34m\u001b[0m\u001b[0;34m\u001b[0m\u001b[0m\n\u001b[1;32m   2645\u001b[0m                 ctypes.byref(is_finished)))\n",
      "\u001b[0;31mKeyboardInterrupt\u001b[0m: "
     ]
    }
   ],
   "source": [
    "%%time\n",
    "'''\n",
    "Train the model using the \"lgb.train\" api for more control. Try 20 cycles, no max depth\n",
    "'''\n",
    "\n",
    "params = {\n",
    "    \"objective\":'binary',\n",
    "    \"num_leaves\": 1023,\n",
    "    \"max_depth\": -1,\n",
    "    \"learning_rate\": 0.1,\n",
    "#   \"bagging_fraction\": 0.5,\n",
    "#     \"bagging_freq\": 5,\n",
    "    \"metric\":\"binary_logloss\",\n",
    "    \"num_threads\":8,\n",
    "    \"boosting\": \"goss\",\n",
    "}\n",
    "# goss is faster than gbdt but worse for small data\n",
    "# cat feature user name and movie name\n",
    "\n",
    "model = lgbm.train(\n",
    "    params,\n",
    "    train_data,\n",
    "    num_boost_round=100,\n",
    "    valid_sets=[valid_set],\n",
    "    early_stopping_rounds = 10,\n",
    "    init_model=model\n",
    ")"
   ]
  },
  {
   "cell_type": "code",
   "execution_count": 36,
   "id": "5bf0e243",
   "metadata": {
    "scrolled": false
   },
   "outputs": [
    {
     "data": {
      "text/plain": [
       "array([2029, 3970,  620,  274,  143,  153,  231,  207,  675,  854,  358,\n",
       "        686], dtype=int32)"
      ]
     },
     "execution_count": 36,
     "metadata": {},
     "output_type": "execute_result"
    }
   ],
   "source": [
    "model.feature_importance()"
   ]
  },
  {
   "cell_type": "code",
   "execution_count": 37,
   "id": "567bbba5",
   "metadata": {
    "scrolled": true
   },
   "outputs": [],
   "source": [
    "train_prediction = model.predict(X_train)"
   ]
  },
  {
   "cell_type": "code",
   "execution_count": 38,
   "id": "32df2940",
   "metadata": {},
   "outputs": [],
   "source": [
    "valid_prediction = model.predict(X_valid)"
   ]
  },
  {
   "cell_type": "code",
   "execution_count": 39,
   "id": "913f515d",
   "metadata": {
    "scrolled": true
   },
   "outputs": [
    {
     "name": "stdout",
     "output_type": "stream",
     "text": [
      "Overfit check:\n",
      "Train score:\t0.641\n",
      "Test score:\t0.640\n"
     ]
    }
   ],
   "source": [
    "from sklearn.metrics import accuracy_score\n",
    "\n",
    "'''\n",
    "Check for overfitting\n",
    "'''\n",
    "print(\"Overfit check:\")\n",
    "print('Train score:\\t{:.3f}'.format(accuracy_score(y_train, train_prediction > 0.5)))\n",
    "print('Test score:\\t{:.3f}'.format(accuracy_score(y_valid, valid_prediction > 0.5)))"
   ]
  },
  {
   "cell_type": "code",
   "execution_count": 42,
   "id": "acb247b4",
   "metadata": {
    "scrolled": false
   },
   "outputs": [
    {
     "name": "stdout",
     "output_type": "stream",
     "text": [
      "              precision    recall  f1-score   support\n",
      "\n",
      "           0       0.65      0.85      0.74  35790103\n",
      "           1       0.62      0.34      0.44  25119749\n",
      "\n",
      "    accuracy                           0.64  60909852\n",
      "   macro avg       0.63      0.60      0.59  60909852\n",
      "weighted avg       0.63      0.64      0.61  60909852\n",
      "\n"
     ]
    }
   ],
   "source": [
    "'''\n",
    "Metrics output\n",
    "'''\n",
    "from sklearn.metrics import classification_report\n",
    "print(classification_report(y_valid, valid_prediction > 0.5))"
   ]
  },
  {
   "cell_type": "code",
   "execution_count": 43,
   "id": "6ce50c66",
   "metadata": {},
   "outputs": [
    {
     "data": {
      "text/plain": [
       "<lightgbm.basic.Booster at 0x2af3f6dc84c0>"
      ]
     },
     "execution_count": 43,
     "metadata": {},
     "output_type": "execute_result"
    }
   ],
   "source": [
    "model.save_model('models/full_70iter.txt')"
   ]
  },
  {
   "cell_type": "code",
   "execution_count": null,
   "id": "cc805064",
   "metadata": {},
   "outputs": [],
   "source": []
  }
 ],
 "metadata": {
  "kernelspec": {
   "display_name": "Python 3",
   "language": "python",
   "name": "python3"
  },
  "language_info": {
   "codemirror_mode": {
    "name": "ipython",
    "version": 3
   },
   "file_extension": ".py",
   "mimetype": "text/x-python",
   "name": "python",
   "nbconvert_exporter": "python",
   "pygments_lexer": "ipython3",
   "version": "3.8.10"
  }
 },
 "nbformat": 4,
 "nbformat_minor": 5
}
